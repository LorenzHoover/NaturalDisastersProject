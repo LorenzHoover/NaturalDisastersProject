{
 "cells": [
  {
   "cell_type": "code",
   "execution_count": 1,
   "id": "771087cb-6fc5-4a99-8df0-d14b04f105bd",
   "metadata": {},
   "outputs": [],
   "source": [
    "import pandas as pd"
   ]
  },
  {
   "cell_type": "code",
   "execution_count": 5,
   "id": "fa5770df-d0b2-45fe-9ec5-16c5a9dc7efb",
   "metadata": {},
   "outputs": [
    {
     "data": {
      "text/html": [
       "<div>\n",
       "<style scoped>\n",
       "    .dataframe tbody tr th:only-of-type {\n",
       "        vertical-align: middle;\n",
       "    }\n",
       "\n",
       "    .dataframe tbody tr th {\n",
       "        vertical-align: top;\n",
       "    }\n",
       "\n",
       "    .dataframe thead th {\n",
       "        text-align: right;\n",
       "    }\n",
       "</style>\n",
       "<table border=\"1\" class=\"dataframe\">\n",
       "  <thead>\n",
       "    <tr style=\"text-align: right;\">\n",
       "      <th></th>\n",
       "      <th>MSN</th>\n",
       "      <th>YYYYMM</th>\n",
       "      <th>Value</th>\n",
       "      <th>Column_Order</th>\n",
       "      <th>Description</th>\n",
       "      <th>Unit</th>\n",
       "    </tr>\n",
       "  </thead>\n",
       "  <tbody>\n",
       "    <tr>\n",
       "      <th>0</th>\n",
       "      <td>CLTCBUS</td>\n",
       "      <td>194913</td>\n",
       "      <td>11.980905</td>\n",
       "      <td>1</td>\n",
       "      <td>Coal Consumption</td>\n",
       "      <td>Quadrillion Btu</td>\n",
       "    </tr>\n",
       "    <tr>\n",
       "      <th>1</th>\n",
       "      <td>CLTCBUS</td>\n",
       "      <td>195013</td>\n",
       "      <td>12.347109</td>\n",
       "      <td>1</td>\n",
       "      <td>Coal Consumption</td>\n",
       "      <td>Quadrillion Btu</td>\n",
       "    </tr>\n",
       "    <tr>\n",
       "      <th>2</th>\n",
       "      <td>CLTCBUS</td>\n",
       "      <td>195113</td>\n",
       "      <td>12.552996</td>\n",
       "      <td>1</td>\n",
       "      <td>Coal Consumption</td>\n",
       "      <td>Quadrillion Btu</td>\n",
       "    </tr>\n",
       "    <tr>\n",
       "      <th>3</th>\n",
       "      <td>CLTCBUS</td>\n",
       "      <td>195213</td>\n",
       "      <td>11.306479</td>\n",
       "      <td>1</td>\n",
       "      <td>Coal Consumption</td>\n",
       "      <td>Quadrillion Btu</td>\n",
       "    </tr>\n",
       "    <tr>\n",
       "      <th>4</th>\n",
       "      <td>CLTCBUS</td>\n",
       "      <td>195313</td>\n",
       "      <td>11.372684</td>\n",
       "      <td>1</td>\n",
       "      <td>Coal Consumption</td>\n",
       "      <td>Quadrillion Btu</td>\n",
       "    </tr>\n",
       "  </tbody>\n",
       "</table>\n",
       "</div>"
      ],
      "text/plain": [
       "       MSN  YYYYMM      Value  Column_Order       Description             Unit\n",
       "0  CLTCBUS  194913  11.980905             1  Coal Consumption  Quadrillion Btu\n",
       "1  CLTCBUS  195013  12.347109             1  Coal Consumption  Quadrillion Btu\n",
       "2  CLTCBUS  195113  12.552996             1  Coal Consumption  Quadrillion Btu\n",
       "3  CLTCBUS  195213  11.306479             1  Coal Consumption  Quadrillion Btu\n",
       "4  CLTCBUS  195313  11.372684             1  Coal Consumption  Quadrillion Btu"
      ]
     },
     "execution_count": 5,
     "metadata": {},
     "output_type": "execute_result"
    }
   ],
   "source": [
    "pd.read_csv('MER_T01_03.csv').head()"
   ]
  },
  {
   "cell_type": "code",
   "execution_count": 7,
   "id": "9e682709-a88e-45fc-8a33-511eab7f9f34",
   "metadata": {},
   "outputs": [
    {
     "data": {
      "text/html": [
       "<div>\n",
       "<style scoped>\n",
       "    .dataframe tbody tr th:only-of-type {\n",
       "        vertical-align: middle;\n",
       "    }\n",
       "\n",
       "    .dataframe tbody tr th {\n",
       "        vertical-align: top;\n",
       "    }\n",
       "\n",
       "    .dataframe thead th {\n",
       "        text-align: right;\n",
       "    }\n",
       "</style>\n",
       "<table border=\"1\" class=\"dataframe\">\n",
       "  <thead>\n",
       "    <tr style=\"text-align: right;\">\n",
       "      <th></th>\n",
       "      <th>Entity</th>\n",
       "      <th>Year</th>\n",
       "      <th>Per capita greenhouse gas emissions in CO₂ equivalents</th>\n",
       "    </tr>\n",
       "  </thead>\n",
       "  <tbody>\n",
       "    <tr>\n",
       "      <th>0</th>\n",
       "      <td>United States</td>\n",
       "      <td>1850</td>\n",
       "      <td>36.810047</td>\n",
       "    </tr>\n",
       "    <tr>\n",
       "      <th>1</th>\n",
       "      <td>United States</td>\n",
       "      <td>1851</td>\n",
       "      <td>37.967045</td>\n",
       "    </tr>\n",
       "    <tr>\n",
       "      <th>2</th>\n",
       "      <td>United States</td>\n",
       "      <td>1852</td>\n",
       "      <td>38.715282</td>\n",
       "    </tr>\n",
       "    <tr>\n",
       "      <th>3</th>\n",
       "      <td>United States</td>\n",
       "      <td>1853</td>\n",
       "      <td>37.862060</td>\n",
       "    </tr>\n",
       "    <tr>\n",
       "      <th>4</th>\n",
       "      <td>United States</td>\n",
       "      <td>1854</td>\n",
       "      <td>38.116035</td>\n",
       "    </tr>\n",
       "  </tbody>\n",
       "</table>\n",
       "</div>"
      ],
      "text/plain": [
       "          Entity  Year  Per capita greenhouse gas emissions in CO₂ equivalents\n",
       "0  United States  1850                                          36.810047     \n",
       "1  United States  1851                                          37.967045     \n",
       "2  United States  1852                                          38.715282     \n",
       "3  United States  1853                                          37.862060     \n",
       "4  United States  1854                                          38.116035     "
      ]
     },
     "execution_count": 7,
     "metadata": {},
     "output_type": "execute_result"
    }
   ],
   "source": [
    "pd.read_csv('per-capita-greenhouse-gas-emissions.csv').head()"
   ]
  },
  {
   "cell_type": "code",
   "execution_count": null,
   "id": "312cb9c4-0676-4165-8498-2b66c9375fde",
   "metadata": {},
   "outputs": [],
   "source": []
  }
 ],
 "metadata": {
  "kernelspec": {
   "display_name": "Python [conda env:base] *",
   "language": "python",
   "name": "conda-base-py"
  },
  "language_info": {
   "codemirror_mode": {
    "name": "ipython",
    "version": 3
   },
   "file_extension": ".py",
   "mimetype": "text/x-python",
   "name": "python",
   "nbconvert_exporter": "python",
   "pygments_lexer": "ipython3",
   "version": "3.11.7"
  }
 },
 "nbformat": 4,
 "nbformat_minor": 5
}
